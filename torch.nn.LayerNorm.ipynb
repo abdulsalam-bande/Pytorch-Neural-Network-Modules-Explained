{
 "cells": [
  {
   "cell_type": "code",
   "execution_count": 1,
   "id": "b40408ff-9f68-415c-b5cf-360a4cdbf84c",
   "metadata": {},
   "outputs": [],
   "source": [
    "import torch\n",
    "import torch.nn as nn"
   ]
  },
  {
   "cell_type": "code",
   "execution_count": 2,
   "id": "3d73a80f-5e44-491a-b1d5-30a5f09129f2",
   "metadata": {},
   "outputs": [
    {
     "name": "stdout",
     "output_type": "stream",
     "text": [
      "PyTorch LayerNorm Output:\n",
      "tensor([[[[-1.3411, -0.4470],\n",
      "          [ 0.4470,  1.3411]],\n",
      "\n",
      "         [[-1.3411, -0.4470],\n",
      "          [ 0.4470,  1.3411]],\n",
      "\n",
      "         [[-1.3411, -0.4470],\n",
      "          [ 0.4470,  1.3411]]],\n",
      "\n",
      "\n",
      "        [[[-1.3411, -0.4470],\n",
      "          [ 0.4470,  1.3411]],\n",
      "\n",
      "         [[-1.3411, -0.4470],\n",
      "          [ 0.4470,  1.3411]],\n",
      "\n",
      "         [[-1.3411, -0.4470],\n",
      "          [ 0.4470,  1.3411]]]], grad_fn=<NativeLayerNormBackward0>)\n"
     ]
    }
   ],
   "source": [
    "\n",
    "\n",
    "# Full tensor of dimension [2, 3, 2, 2] starting at 0.1 and incrementing by 0.1\n",
    "x_2d = torch.tensor([[[[0.1, 0.2], [0.3, 0.4]],\n",
    "                      [[0.5, 0.6], [0.7, 0.8]],\n",
    "                      [[0.9, 1.0], [1.1, 1.2]]],\n",
    "\n",
    "                     [[[1.3, 1.4], [1.5, 1.6]],\n",
    "                      [[1.7, 1.8], [1.9, 2.0]],\n",
    "                      [[2.1, 2.2], [2.3, 2.4]]]])\n",
    "\n",
    "\n",
    "# Define LayerNorm to normalize across the last two dimensions (height and width)\n",
    "# LayerNorm takes the normalized shape, which in this case will be (height, width) -> (2, 2)\n",
    "layer_norm = nn.LayerNorm([2, 2])  # Normalize across the height and width dimensions\n",
    "\n",
    "# Apply LayerNorm to the input tensor\n",
    "output_pytorch = layer_norm(x_2d)\n",
    "\n",
    "# Print the PyTorch LayerNorm output\n",
    "print(\"PyTorch LayerNorm Output:\")\n",
    "print(output_pytorch)\n"
   ]
  },
  {
   "cell_type": "code",
   "execution_count": 3,
   "id": "c5edf614-5385-4d78-8b6e-3f17f6b4d5b1",
   "metadata": {},
   "outputs": [
    {
     "name": "stdout",
     "output_type": "stream",
     "text": [
      "Output using explicit calculations tensor([[[[-1.3411, -0.4470],\n",
      "          [ 0.4470,  1.3411]],\n",
      "\n",
      "         [[-1.3411, -0.4470],\n",
      "          [ 0.4470,  1.3411]],\n",
      "\n",
      "         [[-1.3411, -0.4470],\n",
      "          [ 0.4470,  1.3411]]],\n",
      "\n",
      "\n",
      "        [[[-1.3411, -0.4470],\n",
      "          [ 0.4470,  1.3411]],\n",
      "\n",
      "         [[-1.3411, -0.4470],\n",
      "          [ 0.4470,  1.3411]],\n",
      "\n",
      "         [[-1.3411, -0.4470],\n",
      "          [ 0.4470,  1.3411]]]])\n"
     ]
    }
   ],
   "source": [
    "# Explicit values for each sample and channel, starting from 0.1 and incrementing by 0.1\n",
    "sample_1_channel_1 = torch.tensor([[0.1, 0.2], [0.3, 0.4]])\n",
    "sample_1_channel_2 = torch.tensor([[0.5, 0.6], [0.7, 0.8]])\n",
    "sample_1_channel_3 = torch.tensor([[0.9, 1.0], [1.1, 1.2]])\n",
    "\n",
    "sample_2_channel_1 = torch.tensor([[1.3, 1.4], [1.5, 1.6]])\n",
    "sample_2_channel_2 = torch.tensor([[1.7, 1.8], [1.9, 2.0]])\n",
    "sample_2_channel_3 = torch.tensor([[2.1, 2.2], [2.3, 2.4]])\n",
    "\n",
    "sum_sample_1_channel_1 = sample_1_channel_1.sum()\n",
    "num_elements_sample_1_channel_1 = sample_1_channel_1.numel()\n",
    "mean_sample_1_channel_1 = sum_sample_1_channel_1 / num_elements_sample_1_channel_1\n",
    "\n",
    "squared_diff_sample_1_channel_1 = (sample_1_channel_1 - mean_sample_1_channel_1) ** 2\n",
    "variance_sample_1_channel_1 = squared_diff_sample_1_channel_1.sum() / num_elements_sample_1_channel_1\n",
    "\n",
    "sum_sample_1_channel_2 = sample_1_channel_2.sum()\n",
    "num_elements_sample_1_channel_2 = sample_1_channel_2.numel()\n",
    "mean_sample_1_channel_2 = sum_sample_1_channel_2 / num_elements_sample_1_channel_2\n",
    "\n",
    "squared_diff_sample_1_channel_2 = (sample_1_channel_2 - mean_sample_1_channel_2) ** 2\n",
    "variance_sample_1_channel_2 = squared_diff_sample_1_channel_2.sum() / num_elements_sample_1_channel_2\n",
    "\n",
    "sum_sample_1_channel_3 = sample_1_channel_3.sum()\n",
    "num_elements_sample_1_channel_3 = sample_1_channel_3.numel()\n",
    "mean_sample_1_channel_3 = sum_sample_1_channel_3 / num_elements_sample_1_channel_3\n",
    "\n",
    "squared_diff_sample_1_channel_3 = (sample_1_channel_3 - mean_sample_1_channel_3) ** 2\n",
    "variance_sample_1_channel_3 = squared_diff_sample_1_channel_3.sum() / num_elements_sample_1_channel_3\n",
    "\n",
    "sum_sample_2_channel_1 = sample_2_channel_1.sum()\n",
    "num_elements_sample_2_channel_1 = sample_2_channel_1.numel()\n",
    "mean_sample_2_channel_1 = sum_sample_2_channel_1 / num_elements_sample_2_channel_1\n",
    "\n",
    "squared_diff_sample_2_channel_1 = (sample_2_channel_1 - mean_sample_2_channel_1) ** 2\n",
    "variance_sample_2_channel_1 = squared_diff_sample_2_channel_1.sum() / num_elements_sample_2_channel_1\n",
    "\n",
    "sum_sample_2_channel_2 = sample_2_channel_2.sum()\n",
    "num_elements_sample_2_channel_2 = sample_2_channel_2.numel()\n",
    "mean_sample_2_channel_2 = sum_sample_2_channel_2 / num_elements_sample_2_channel_2\n",
    "\n",
    "squared_diff_sample_2_channel_2 = (sample_2_channel_2 - mean_sample_2_channel_2) ** 2\n",
    "variance_sample_2_channel_2 = squared_diff_sample_2_channel_2.sum() / num_elements_sample_2_channel_2\n",
    "\n",
    "sum_sample_2_channel_3 = sample_2_channel_3.sum()\n",
    "num_elements_sample_2_channel_3 = sample_2_channel_3.numel()\n",
    "mean_sample_2_channel_3 = sum_sample_2_channel_3 / num_elements_sample_2_channel_3\n",
    "\n",
    "squared_diff_sample_2_channel_3 = (sample_2_channel_3 - mean_sample_2_channel_3) ** 2\n",
    "variance_sample_2_channel_3 = squared_diff_sample_2_channel_3.sum() / num_elements_sample_2_channel_3\n",
    "\n",
    "# Normalization\n",
    "epsilon = 1e-5\n",
    "\n",
    "normalized_sample_1_channel_1 = (sample_1_channel_1 - mean_sample_1_channel_1) / torch.sqrt(variance_sample_1_channel_1 + epsilon)\n",
    "normalized_sample_1_channel_2 = (sample_1_channel_2 - mean_sample_1_channel_2) / torch.sqrt(variance_sample_1_channel_2 + epsilon)\n",
    "normalized_sample_1_channel_3 = (sample_1_channel_3 - mean_sample_1_channel_3) / torch.sqrt(variance_sample_1_channel_3 + epsilon)\n",
    "\n",
    "normalized_sample_2_channel_1 = (sample_2_channel_1 - mean_sample_2_channel_1) / torch.sqrt(variance_sample_2_channel_1 + epsilon)\n",
    "normalized_sample_2_channel_2 = (sample_2_channel_2 - mean_sample_2_channel_2) / torch.sqrt(variance_sample_2_channel_2 + epsilon)\n",
    "normalized_sample_2_channel_3 = (sample_2_channel_3 - mean_sample_2_channel_3) / torch.sqrt(variance_sample_2_channel_3 + epsilon)\n",
    "\n",
    "# Stack normalized channels\n",
    "normalized_x_2d_sample_1 = torch.stack([normalized_sample_1_channel_1, normalized_sample_1_channel_2, normalized_sample_1_channel_3], dim=0)\n",
    "normalized_x_2d_sample_2 = torch.stack([normalized_sample_2_channel_1, normalized_sample_2_channel_2, normalized_sample_2_channel_3], dim=0)\n",
    "\n",
    "# Stack both samples\n",
    "normalized_x_2d = torch.stack([normalized_x_2d_sample_1, normalized_x_2d_sample_2], dim=0)\n",
    "\n",
    "# Applying gamma and beta\n",
    "gamma = torch.tensor([1.0])\n",
    "beta = torch.tensor([0.0])\n",
    "\n",
    "output = gamma * normalized_x_2d + beta\n",
    "\n",
    "print('Output using explicit calculations', output)\n"
   ]
  },
  {
   "cell_type": "code",
   "execution_count": 10,
   "id": "a1ec7ceb-3d2c-4bf2-8400-f8f2adab6874",
   "metadata": {},
   "outputs": [
    {
     "data": {
      "text/plain": [
       "tensor(1.8500)"
      ]
     },
     "execution_count": 10,
     "metadata": {},
     "output_type": "execute_result"
    }
   ],
   "source": [
    "mean_sample_2_channel_2"
   ]
  },
  {
   "cell_type": "code",
   "execution_count": 11,
   "id": "d5648fe2-62d6-4fa7-b9ca-f2d1d6cd99d6",
   "metadata": {},
   "outputs": [
    {
     "data": {
      "text/plain": [
       "tensor(0.0125)"
      ]
     },
     "execution_count": 11,
     "metadata": {},
     "output_type": "execute_result"
    }
   ],
   "source": [
    "variance_sample_2_channel_2"
   ]
  },
  {
   "cell_type": "code",
   "execution_count": 12,
   "id": "978a6dd4-a39e-44a4-acf9-a26c4f8947e0",
   "metadata": {},
   "outputs": [
    {
     "data": {
      "text/plain": [
       "tensor([[-1.3411, -0.4470],\n",
       "        [ 0.4470,  1.3411]])"
      ]
     },
     "execution_count": 12,
     "metadata": {},
     "output_type": "execute_result"
    }
   ],
   "source": [
    "normalized_sample_2_channel_2"
   ]
  },
  {
   "cell_type": "code",
   "execution_count": null,
   "id": "e8d0e5d6-1a2d-4f2b-85b5-97a3554c4a54",
   "metadata": {},
   "outputs": [],
   "source": []
  }
 ],
 "metadata": {
  "kernelspec": {
   "display_name": "Python 3 (ipykernel)",
   "language": "python",
   "name": "python3"
  },
  "language_info": {
   "codemirror_mode": {
    "name": "ipython",
    "version": 3
   },
   "file_extension": ".py",
   "mimetype": "text/x-python",
   "name": "python",
   "nbconvert_exporter": "python",
   "pygments_lexer": "ipython3",
   "version": "3.12.2"
  }
 },
 "nbformat": 4,
 "nbformat_minor": 5
}
