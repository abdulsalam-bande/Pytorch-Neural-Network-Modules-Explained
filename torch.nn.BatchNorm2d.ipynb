{
 "cells": [
  {
   "cell_type": "code",
   "execution_count": 1,
   "id": "1e1ad7bc-207f-41cf-900e-a2bbcb0f6afd",
   "metadata": {},
   "outputs": [],
   "source": [
    "import torch.nn as nn\n",
    "import torch"
   ]
  },
  {
   "cell_type": "code",
   "execution_count": 2,
   "id": "a89b77a9-0a3b-4e8d-9a8f-c7028eb09550",
   "metadata": {},
   "outputs": [],
   "source": [
    "x_2d = torch.tensor([[[[0.1, 0.2], [0.3, 0.4]],\n",
    "                      [[0.5, 0.6], [0.7, 0.8]],\n",
    "                      [[0.9, 1.0], [1.1, 1.2]]],\n",
    "\n",
    "                     [[[1.3, 1.4], [1.5, 1.6]],\n",
    "                      [[1.7, 1.8], [1.9, 2.0]],\n",
    "                      [[2.1, 2.2], [2.3, 2.4]]]])"
   ]
  },
  {
   "cell_type": "code",
   "execution_count": 3,
   "id": "25f7ef8a-48c1-4de5-b497-30d5d7d06715",
   "metadata": {
    "scrolled": true
   },
   "outputs": [
    {
     "name": "stdout",
     "output_type": "stream",
     "text": [
      "Output using PyTorch tensor([[[[-1.2288, -1.0650],\n",
      "          [-0.9011, -0.7373]],\n",
      "\n",
      "         [[-1.2288, -1.0650],\n",
      "          [-0.9011, -0.7373]],\n",
      "\n",
      "         [[-1.2288, -1.0650],\n",
      "          [-0.9011, -0.7373]]],\n",
      "\n",
      "\n",
      "        [[[ 0.7373,  0.9011],\n",
      "          [ 1.0650,  1.2288]],\n",
      "\n",
      "         [[ 0.7373,  0.9011],\n",
      "          [ 1.0650,  1.2288]],\n",
      "\n",
      "         [[ 0.7373,  0.9011],\n",
      "          [ 1.0650,  1.2288]]]], grad_fn=<NativeBatchNormBackward0>)\n"
     ]
    }
   ],
   "source": [
    "bn2d = nn.BatchNorm2d(3)\n",
    "\n",
    "output_2d = bn2d(x_2d)\n",
    "print(\"Output using PyTorch\", output_2d)\n"
   ]
  },
  {
   "cell_type": "code",
   "execution_count": 4,
   "id": "59d6fe39-faf3-4e88-bbc7-619e3e68baf3",
   "metadata": {
    "scrolled": true
   },
   "outputs": [
    {
     "name": "stdout",
     "output_type": "stream",
     "text": [
      "Output using explicit calculations tensor([[[[-1.2288, -1.0650],\n",
      "          [-0.9011, -0.7373]],\n",
      "\n",
      "         [[-1.2288, -1.0650],\n",
      "          [-0.9011, -0.7373]],\n",
      "\n",
      "         [[-1.2288, -1.0650],\n",
      "          [-0.9011, -0.7373]]],\n",
      "\n",
      "\n",
      "        [[[ 0.7373,  0.9011],\n",
      "          [ 1.0650,  1.2288]],\n",
      "\n",
      "         [[ 0.7373,  0.9011],\n",
      "          [ 1.0650,  1.2288]],\n",
      "\n",
      "         [[ 0.7373,  0.9011],\n",
      "          [ 1.0650,  1.2288]]]])\n"
     ]
    }
   ],
   "source": [
    "channel_1_values = torch.tensor([[[[0.1, 0.2], [0.3, 0.4]]],\n",
    "                                 [[[1.3, 1.4], [1.5, 1.6]]]])\n",
    "\n",
    "sum_channel_1 = channel_1_values.sum()\n",
    "num_elements_channel_1 = channel_1_values.numel()\n",
    "mean_channel_1 = sum_channel_1 / num_elements_channel_1\n",
    "\n",
    "# Explicit variance calculation\n",
    "squared_diff_channel_1 = (channel_1_values - mean_channel_1) ** 2\n",
    "variance_channel_1 = squared_diff_channel_1.sum() / num_elements_channel_1\n",
    "\n",
    "\n",
    "\n",
    "\n",
    "channel_2_values = torch.tensor([[[[0.5, 0.6], [0.7, 0.8]]],\n",
    "                                 [[[1.7, 1.8], [1.9, 2.0]]]])\n",
    "\n",
    "sum_channel_2 = channel_2_values.sum()\n",
    "num_elements_channel_2 = channel_2_values.numel()\n",
    "mean_channel_2 = sum_channel_2 / num_elements_channel_2\n",
    "\n",
    "\n",
    "\n",
    "squared_diff_channel_2 = (channel_2_values - mean_channel_2) ** 2\n",
    "variance_channel_2 = squared_diff_channel_2.sum() / num_elements_channel_2\n",
    "\n",
    "channel_3_values = torch.tensor([[[[0.9, 1.0], [1.1, 1.2]]],\n",
    "                                 [[[2.1, 2.2], [2.3, 2.4]]]])\n",
    "\n",
    "sum_channel_3 = channel_3_values.sum()\n",
    "num_elements_channel_3 = channel_3_values.numel()\n",
    "mean_channel_3 = sum_channel_3 / num_elements_channel_3\n",
    "\n",
    "# Explicit variance calculation\n",
    "squared_diff_channel_3 = (channel_3_values - mean_channel_3) ** 2\n",
    "variance_channel_3 = squared_diff_channel_3.sum() / num_elements_channel_3\n",
    "\n",
    "epsilon = 1e-5\n",
    "\n",
    "# Normalize the channel values\n",
    "normalized_channel_1 = (channel_1_values - mean_channel_1) / torch.sqrt(variance_channel_1 + epsilon)\n",
    "normalized_channel_2 = (channel_2_values - mean_channel_2) / torch.sqrt(variance_channel_2 + epsilon)\n",
    "normalized_channel_3 = (channel_3_values - mean_channel_3) / torch.sqrt(variance_channel_3 + epsilon)\n",
    "\n",
    "# Concatenate normalized channels\n",
    "normalized_x_2d = torch.cat([normalized_channel_1, normalized_channel_2, normalized_channel_3], dim=1)\n",
    "\n",
    "gamma = torch.tensor([1.0]) \n",
    "beta = torch.tensor([0.0])\n",
    "\n",
    "output = gamma * normalized_x_2d + beta\n",
    "\n",
    "print('Output using explicit calculations', output)"
   ]
  },
  {
   "cell_type": "code",
   "execution_count": null,
   "id": "b0ef4855-bacc-46e2-8404-65f55f3a3a7c",
   "metadata": {},
   "outputs": [],
   "source": []
  }
 ],
 "metadata": {
  "kernelspec": {
   "display_name": "Python 3 (ipykernel)",
   "language": "python",
   "name": "python3"
  },
  "language_info": {
   "codemirror_mode": {
    "name": "ipython",
    "version": 3
   },
   "file_extension": ".py",
   "mimetype": "text/x-python",
   "name": "python",
   "nbconvert_exporter": "python",
   "pygments_lexer": "ipython3",
   "version": "3.12.2"
  }
 },
 "nbformat": 4,
 "nbformat_minor": 5
}
